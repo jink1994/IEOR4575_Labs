{
 "cells": [
  {
   "cell_type": "markdown",
   "metadata": {},
   "source": [
    "## Introduction to Deep Learning with PyTorch\n",
    "\n",
    "This notebook will walk through the procedure of developing a neural network to solve a supervised learning problem with PyTorch. Let's begin with an example of a regression problem:"
   ]
  },
  {
   "cell_type": "markdown",
   "metadata": {},
   "source": [
    "## Toy Example\n",
    "The requirements are the following:\n",
    "\n",
    "1. A dataset D = {$(x_1,y_1), (x_2,y_2), ..., (x_N, y_N)$} \n",
    "2. A parametric model f with a specified model architecture (i.e. the functional form of f).\n",
    "3. A loss function that evaluates the error in the outputs (predictions) of the model with respect to the ground truth labels y from the dataset D"
   ]
  },
  {
   "cell_type": "code",
   "execution_count": 1,
   "metadata": {},
   "outputs": [],
   "source": [
    "import torch\n",
    "import matplotlib.pyplot as plt"
   ]
  },
  {
   "cell_type": "markdown",
   "metadata": {},
   "source": [
    "### Dataset\n",
    "Let's collect a dataset of x,y samples where: $$y = 3x^2 + x - 2$$\n",
    "\n",
    "$$X = [x_1, x_2, x_3, ..., x_N]^T$$\n",
    "$$Y = [y_1, y_2, y_3, ..., y_N]^T$$ \n",
    "\n",
    "1. $x_i$ is a real value, so X has dimensions Nx1\n",
    "2. $y_i$ is a real value, so Y has dimensions Nx1"
   ]
  },
  {
   "cell_type": "code",
   "execution_count": 2,
   "metadata": {
    "scrolled": true
   },
   "outputs": [
    {
     "name": "stdout",
     "output_type": "stream",
     "text": [
      "torch.Size([10000, 1]) torch.Size([10000, 1])\n"
     ]
    }
   ],
   "source": [
    "x = torch.linspace(start=-1, end=1, steps=10000).unsqueeze(1)  # 10000 equally spaced values between [-1, 1]\n",
    "y = 3*x**2 + x - 2\n",
    "\n",
    "print(x.shape, y.shape)"
   ]
  },
  {
   "cell_type": "code",
   "execution_count": 3,
   "metadata": {},
   "outputs": [
    {
     "data": {
      "text/plain": [
       "<matplotlib.collections.PathCollection at 0x7fca10838eb8>"
      ]
     },
     "execution_count": 3,
     "metadata": {},
     "output_type": "execute_result"
    },
    {
     "data": {
      "image/png": "[encoded data removed]",
      "text/plain": [
       "<Figure size 432x288 with 1 Axes>"
      ]
     },
     "metadata": {
      "needs_background": "light"
     },
     "output_type": "display_data"
    }
   ],
   "source": [
    "# visualize the dataset\n",
    "plt.scatter(x, y)"
   ]
  },
  {
   "cell_type": "markdown",
   "metadata": {},
   "source": [
    "### Model\n",
    "Let's define the model (i.e. the function f) that will map x to y. We assume that we do not know that y is a quadratic function of x. All we will assume is that x and y have a highly nonlinear relationship. Then, what should this function f be? A neural network, specifically a Multi-Layer Perceptron!"
   ]
  },
  {
   "cell_type": "markdown",
   "metadata": {},
   "source": [
    "**Multi-Layer Perceptron (MLP)**\n",
    "\n",
    "MLP is a generic yet useful neural network model. Consider a MLP for regression task, where we want to learn a mapping $x \\in \\mathbb{R}^k \\mapsto y \\in \\mathbb{R}$. The input $x$ is $k$-dimensional and $y$ is scalar. The simplest regression model is linear model with parameter $w \\in \\mathbb{R}^k$ and $w_0 \\in \\mathbb{R}$, we can propose to predict $y$ as $y_{pred} = w^T x + w_0$.\n",
    "\n",
    "MLP is a generalization of linear regression. Consider a linear transformation by matrix $W_1\\in\\mathbb{R}^{k\\times l}$ and bias vector $b_1\\in \\mathbb{R}^l$:\n",
    "\n",
    "$$h_1 = x * W_1 + b_1$$\n",
    "\n",
    "In addition to linear transformation, apply a non-linear function $\\sigma(\\cdot)$ elementwise to the above hidden vector $h_1$\n",
    "\n",
    "$$z_1 = \\sigma (h_1) $$\n",
    "\n",
    "We have essentially generated a set of features $z_1$ from $x$. This set of features can be used as input to another linear model to predict $y$. Let us specify another set of parameter $W_2 \\in \\mathbb{R}^l, b_2 \\in \\mathbb{R}$. The prediction is:\n",
    "\n",
    "$$y_{pred} = z_1 * W_2 + b_2$$\n",
    "\n",
    "A input-output mapping from $x$ to $y_{pred}$ can be compactly written as below:\n",
    "\n",
    "$$y_{pred} = \\sigma(x * W_1 + b_1) * W_2 + b_2$$\n",
    "\n",
    "We have just defined a simplest MLP. In simple words, MLP is defined by alternately stacking linear mappings ($W_1,b_1$) and nonlinear function ($\\sigma(\\cdot)$). Now, instead of having parameter $w,w_0$ in linear model, we have parameters $W_1,b_1,W_2,b_2$ in our simple MLP. Though this inevitably introduces more parameters, the model becomes more expressive and powerful as well.\n",
    "\n",
    "We can define our model as: $$ f(x) = y_{pred} =  \\sigma(x * W_1 + b_1) * W_2 + b_2$$\n",
    "\n",
    "1. $x$ has dimension Nx1\n",
    "2. $W_1$ has dimension 1x100\n",
    "3. $b_1$ has dimension 1x1\n",
    "4. $W_2$ has dimension 100x1\n",
    "5. $b_2$ has dimension 1x1"
   ]
  },
  {
   "cell_type": "code",
   "execution_count": 4,
   "metadata": {},
   "outputs": [],
   "source": [
    "model = torch.nn.Sequential(\n",
    "            torch.nn.Linear(1, 100),\n",
    "            torch.nn.ReLU(),\n",
    "            torch.nn.Linear(100, 1)\n",
    "        )\n",
    "\n",
    "optimizer = torch.optim.Adam(model.parameters(), lr=0.001)\n",
    "\n",
    "y_hat = model(x)"
   ]
  },
  {
   "cell_type": "code",
   "execution_count": 5,
   "metadata": {
    "scrolled": true
   },
   "outputs": [
    {
     "data": {
      "image/png": "[encoded data removed]",
      "text/plain": [
       "<Figure size 432x288 with 1 Axes>"
      ]
     },
     "metadata": {
      "needs_background": "light"
     },
     "output_type": "display_data"
    }
   ],
   "source": [
    "# visualize initial model predictions\n",
    "plt.scatter(x, y, label=\"ground-truth\")\n",
    "plt.scatter(x, y_hat.detach(), label=\"prediction\")\n",
    "plt.legend(loc=\"upper right\")\n",
    "plt.show()"
   ]
  },
  {
   "cell_type": "markdown",
   "metadata": {},
   "source": [
    "### Loss\n",
    "For training, we need a loss function that will evaluate the quality of model predictions against ground truth labels y. \n",
    "\n",
    "Let's use $L(\\hat{y}, y) = (\\hat{y}-y)^2$. "
   ]
  },
  {
   "cell_type": "code",
   "execution_count": 6,
   "metadata": {},
   "outputs": [
    {
     "name": "stdout",
     "output_type": "stream",
     "text": [
      "The average loss or error in the model's predictions compared to the ground truth is 2.0024\n"
     ]
    }
   ],
   "source": [
    "L = torch.mean(((y_hat-y)**2))\n",
    "print(\"The average loss or error in the model's predictions compared to the ground truth is %.4f\" % (L))"
   ]
  },
  {
   "cell_type": "markdown",
   "metadata": {},
   "source": [
    "### Optimization  (training)\n",
    "Now we will optimize our model f until the loss is below a threshold. We have already discussed the general recipe at the very beginning of this tutorial."
   ]
  },
  {
   "cell_type": "code",
   "execution_count": 7,
   "metadata": {},
   "outputs": [],
   "source": [
    "alpha = 0.001\n",
    "error_tolerance = 0.01"
   ]
  },
  {
   "cell_type": "code",
   "execution_count": 8,
   "metadata": {},
   "outputs": [
    {
     "name": "stdout",
     "output_type": "stream",
     "text": [
      "2.002368211746216\n",
      "1.962876319885254\n",
      "1.924391746520996\n",
      "1.8869218826293945\n",
      "1.8504705429077148\n",
      "1.8150261640548706\n",
      "1.7805652618408203\n",
      "1.7470598220825195\n",
      "1.7144855260849\n",
      "1.68282151222229\n",
      "1.6520463228225708\n",
      "1.6221407651901245\n",
      "1.5930840969085693\n",
      "1.5648577213287354\n",
      "1.5374420881271362\n",
      "1.5108176469802856\n",
      "1.4849635362625122\n",
      "1.4598581790924072\n",
      "1.435478687286377\n",
      "1.4118013381958008\n",
      "1.3888026475906372\n",
      "1.366458535194397\n",
      "1.3447455167770386\n",
      "1.3236405849456787\n",
      "1.3031213283538818\n",
      "1.2831661701202393\n",
      "1.2637544870376587\n",
      "1.2448662519454956\n",
      "1.2264825105667114\n",
      "1.208585500717163\n",
      "1.1911578178405762\n",
      "1.1741830110549927\n",
      "1.1576460599899292\n",
      "1.141532063484192\n",
      "1.1258271932601929\n",
      "1.1105183362960815\n",
      "1.0955926179885864\n",
      "1.0810383558273315\n",
      "1.066843867301941\n",
      "1.0529979467391968\n",
      "1.0394904613494873\n",
      "1.0263110399246216\n",
      "1.0134499073028564\n",
      "1.000897765159607\n",
      "0.9886454343795776\n",
      "0.9766836166381836\n",
      "0.9650037288665771\n",
      "0.9535972476005554\n",
      "0.9424556493759155\n",
      "0.9315707087516785\n",
      "0.9209337830543518\n",
      "0.9105371236801147\n",
      "0.9003723859786987\n",
      "0.8904316425323486\n",
      "0.8807069063186646\n",
      "0.8711904287338257\n",
      "0.8618742227554321\n",
      "0.8527508974075317\n",
      "0.8438125252723694\n",
      "0.8350515365600586\n",
      "0.8264609575271606\n",
      "0.8180332779884338\n",
      "0.809761643409729\n",
      "0.8016388416290283\n",
      "0.7936583757400513\n",
      "0.785813570022583\n",
      "0.7780983448028564\n",
      "0.7705062627792358\n",
      "0.763031542301178\n",
      "0.755668580532074\n",
      "0.7484118938446045\n",
      "0.7412561774253845\n",
      "0.7341966032981873\n",
      "0.7272282242774963\n",
      "0.7203465104103088\n",
      "0.7135471701622009\n",
      "0.7068260908126831\n",
      "0.7001792788505554\n",
      "0.6936032772064209\n",
      "0.6870942115783691\n",
      "0.6806489825248718\n",
      "0.6742643713951111\n",
      "0.6679372787475586\n",
      "0.661665141582489\n",
      "0.6554449796676636\n",
      "0.6492744088172913\n",
      "0.643151044845581\n",
      "0.6370725035667419\n",
      "0.6310368776321411\n",
      "0.6250420212745667\n",
      "0.6190859079360962\n",
      "0.6131669878959656\n",
      "0.6072835922241211\n",
      "0.601434051990509\n",
      "0.5956169962882996\n",
      "0.5898310542106628\n",
      "0.5840750336647034\n",
      "0.5783477425575256\n",
      "0.5726481676101685\n",
      "0.5669752359390259\n",
      "0.5613282918930054\n",
      "0.5557063221931458\n",
      "0.5501086711883545\n",
      "0.5445347428321838\n",
      "0.538983941078186\n",
      "0.5334556698799133\n",
      "0.5279495716094971\n",
      "0.5224653482437134\n",
      "0.517002522945404\n",
      "0.5115609169006348\n",
      "0.5061402916908264\n",
      "0.5007405281066895\n",
      "0.4953615367412567\n",
      "0.49000313878059387\n",
      "0.4846653938293457\n",
      "0.47934839129447937\n",
      "0.4740520417690277\n",
      "0.46877655386924744\n",
      "0.46352216601371765\n",
      "0.45828887820243835\n",
      "0.45307695865631104\n",
      "0.4478866755962372\n",
      "0.4427182674407959\n",
      "0.43757203221321106\n",
      "0.4324483275413513\n",
      "0.42734745144844055\n",
      "0.42226988077163696\n",
      "0.41721582412719727\n",
      "0.41218578815460205\n",
      "0.40718019008636475\n",
      "0.4021994471549988\n",
      "0.39724406599998474\n",
      "0.3923143744468689\n",
      "0.3874109387397766\n",
      "0.3825341463088989\n",
      "0.377684623003006\n",
      "0.3728626072406769\n",
      "0.36806878447532654\n",
      "0.3633034825325012\n",
      "0.3585672974586487\n",
      "0.35386067628860474\n",
      "0.3491840660572052\n",
      "0.3445378541946411\n",
      "0.3399226665496826\n",
      "0.33533892035484314\n",
      "0.33078697323799133\n",
      "0.3262673616409302\n",
      "0.3217804431915283\n",
      "0.31732669472694397\n",
      "0.31290656328201294\n",
      "0.3085203170776367\n",
      "0.3041684925556183\n",
      "0.2998514175415039\n",
      "0.2955694794654846\n",
      "0.2913230061531067\n",
      "0.28711238503456116\n",
      "0.2829378545284271\n",
      "0.27879980206489563\n",
      "0.2746986150741577\n",
      "0.27063441276550293\n",
      "0.2666076123714447\n",
      "0.26261842250823975\n",
      "0.25866714119911194\n",
      "0.25475388765335083\n",
      "0.2508789896965027\n",
      "0.24704262614250183\n",
      "0.24324502050876617\n",
      "0.23948627710342407\n",
      "0.23576664924621582\n",
      "0.23208622634410858\n",
      "0.22844523191452026\n",
      "0.22484372556209564\n",
      "0.22128185629844666\n",
      "0.21775969862937927\n",
      "0.21427734196186066\n",
      "0.21083489060401917\n",
      "0.20743237435817719\n",
      "0.2040698379278183\n",
      "0.20074737071990967\n",
      "0.19746489822864532\n",
      "0.19422249495983124\n",
      "0.19102011620998383\n",
      "0.18785779178142548\n",
      "0.1847354918718338\n",
      "0.18165312707424164\n",
      "0.1786106377840042\n",
      "0.17560800909996033\n",
      "0.17264516651630402\n",
      "0.16972199082374573\n",
      "0.1668383926153183\n",
      "0.16399423778057098\n",
      "0.16118943691253662\n",
      "0.15842387080192566\n",
      "0.15569740533828735\n",
      "0.15300984680652618\n",
      "0.1503610461950302\n",
      "0.1477508544921875\n",
      "0.14517909288406372\n",
      "0.14264553785324097\n",
      "0.1401500254869461\n",
      "0.13769236207008362\n",
      "0.1352723091840744\n",
      "0.13288962841033936\n",
      "0.13054414093494415\n",
      "0.12823553383350372\n",
      "0.12596362829208374\n",
      "0.12372812628746033\n",
      "0.12152881175279617\n",
      "0.119365394115448\n",
      "0.11723761260509491\n",
      "0.11514516919851303\n",
      "0.11308779567480087\n",
      "0.11106518656015396\n",
      "0.10907705128192902\n",
      "0.10712309926748276\n",
      "0.10520298779010773\n",
      "0.10331645607948303\n",
      "0.10146313160657883\n",
      "0.09964275360107422\n",
      "0.09785495698451996\n",
      "0.09609941393136978\n",
      "0.09437579661607742\n",
      "0.09268376231193542\n",
      "0.09102299809455872\n",
      "0.08939311653375626\n",
      "0.08779378980398178\n",
      "0.08622467517852783\n",
      "0.08468541502952576\n",
      "0.0831756517291069\n",
      "0.08169501274824142\n",
      "0.08024315536022186\n",
      "0.07881969958543777\n",
      "0.0774243101477623\n",
      "0.0760565772652626\n",
      "0.07471618801355362\n",
      "0.0734027549624443\n",
      "0.07211589068174362\n",
      "0.0708552747964859\n",
      "0.06962049007415771\n",
      "0.0684112161397934\n",
      "0.06722703576087952\n",
      "0.06606762111186981\n",
      "0.06493259221315384\n",
      "0.06382157653570175\n",
      "0.0627342015504837\n",
      "0.061670124530792236\n",
      "0.06062895059585571\n",
      "0.05961032211780548\n",
      "0.05861389636993408\n",
      "0.05763929337263107\n",
      "0.0566861629486084\n",
      "0.05575414374470711\n",
      "0.05484285205602646\n",
      "0.053951963782310486\n",
      "0.05308112874627113\n",
      "0.05222996696829796\n",
      "0.0513981431722641\n",
      "0.0505852997303009\n",
      "0.049791108816862106\n",
      "0.04901522025465965\n",
      "0.04825729504227638\n",
      "0.04751697927713394\n",
      "0.046793945133686066\n",
      "0.046087879687547684\n",
      "0.04539843648672104\n",
      "0.044725287705659866\n",
      "0.0440681017935276\n",
      "0.043426577001810074\n",
      "0.04280038923025131\n",
      "0.04218922555446625\n",
      "0.04159277305006981\n",
      "0.041010718792676926\n",
      "0.04044276475906372\n",
      "0.03988860920071602\n",
      "0.039347972720861435\n",
      "0.038820527493953705\n",
      "0.03830600157380104\n",
      "0.03780411556363106\n",
      "0.03731457144021988\n",
      "0.03683710843324661\n",
      "0.036371439695358276\n",
      "0.03591729700565338\n",
      "0.03547441586852074\n",
      "0.03504252806305885\n",
      "0.03462137281894684\n",
      "0.03421071171760559\n",
      "0.03381027281284332\n",
      "0.033419810235500336\n",
      "0.033039093017578125\n",
      "0.03266787901520729\n",
      "0.032305922359228134\n",
      "0.03195299953222275\n",
      "0.031608883291482925\n",
      "0.03127334266901016\n",
      "0.030946161597967148\n",
      "0.030627118423581123\n",
      "0.030316011980175972\n",
      "0.030012628063559532\n",
      "0.02971675992012024\n",
      "0.029428213834762573\n",
      "0.02914678305387497\n",
      "0.028872283175587654\n",
      "0.02860451675951481\n",
      "0.028343316167593002\n",
      "0.02808847650885582\n",
      "0.02783983200788498\n",
      "0.0275972131639719\n",
      "0.027360443025827408\n",
      "0.02712935209274292\n",
      "0.026903783902525902\n",
      "0.02668357826769352\n",
      "0.02646857686340809\n",
      "0.026258625090122223\n",
      "0.026053575798869133\n",
      "0.02585328370332718\n",
      "0.02565760537981987\n",
      "0.025466401129961014\n",
      "0.025279536843299866\n",
      "0.02509688213467598\n",
      "0.02491830103099346\n",
      "0.02474367618560791\n",
      "0.02457287535071373\n",
      "0.024405786767601967\n",
      "0.02424228936433792\n",
      "0.02408227138221264\n",
      "0.02392561547458172\n",
      "0.02377222664654255\n",
      "0.023621980100870132\n",
      "0.023474792018532753\n",
      "0.023330556228756905\n",
      "0.02318916842341423\n",
      "0.023050548508763313\n",
      "0.022914594039320946\n",
      "0.022781219333410263\n",
      "0.022650333121418953\n",
      "0.02252185344696045\n",
      "0.022395707666873932\n",
      "0.022271810099482536\n",
      "0.022150076925754547\n",
      "0.02203044481575489\n",
      "0.021912831813097\n",
      "0.02179718017578125\n",
      "0.021683406084775925\n",
      "0.0215714480727911\n",
      "0.021461250260472298\n",
      "0.021352747455239296\n",
      "0.021245870739221573\n",
      "0.0211405698210001\n",
      "0.021036792546510696\n",
      "0.02093447744846344\n",
      "0.02083357609808445\n",
      "0.0207340307533741\n",
      "0.02063579671084881\n",
      "0.020538831129670143\n",
      "0.020443085581064224\n",
      "0.02034851349890232\n",
      "0.0202550757676363\n",
      "0.020162729546427727\n",
      "0.02007143571972847\n",
      "0.019981160759925842\n",
      "0.019891858100891113\n",
      "0.019803503528237343\n",
      "0.019716056063771248\n",
      "0.01962948590517044\n",
      "0.01954376883804798\n",
      "0.019458860158920288\n",
      "0.019374744966626167\n",
      "0.019291391596198082\n",
      "0.019208768382668495\n",
      "0.019126858562231064\n",
      "0.019045626744627953\n",
      "0.018965061753988266\n",
      "0.018885133787989616\n",
      "0.018805822357535362\n",
      "0.018727106973528862\n",
      "0.01864897459745407\n",
      "0.0185713991522789\n",
      "0.018494367599487305\n",
      "0.018417861312627792\n",
      "0.01834186539053917\n",
      "0.018266359344124794\n",
      "0.01819133386015892\n",
      "0.018116777762770653\n",
      "0.01804266683757305\n",
      "0.01796899549663067\n",
      "0.01789575256407261\n",
      "0.017822928726673126\n",
      "0.017750507220625877\n",
      "0.017678478732705116\n",
      "0.017606835812330246\n",
      "0.017535576596856117\n",
      "0.01746468059718609\n",
      "0.01739414408802986\n",
      "0.01732395589351654\n",
      "0.017254119738936424\n",
      "0.01718461699783802\n",
      "0.017115449532866478\n",
      "0.017046598717570305\n",
      "0.01697807013988495\n",
      "0.01690986007452011\n",
      "0.016841957345604897\n",
      "0.016774358227849007\n",
      "0.016707058995962143\n",
      "0.016640054062008858\n",
      "0.0165733452886343\n",
      "0.016506928950548172\n",
      "0.016440795734524727\n",
      "0.016374943777918816\n",
      "0.016309376806020737\n",
      "0.016244089230895042\n",
      "0.016179077327251434\n",
      "0.016114337369799614\n",
      "0.01604986935853958\n",
      "0.015985669568181038\n",
      "0.01592174358665943\n",
      "0.015858085826039314\n",
      "0.01579468883574009\n",
      "0.015731561928987503\n",
      "0.01566869579255581\n",
      "0.015606091357767582\n",
      "0.015543749555945396\n",
      "0.01548166386783123\n",
      "0.015419842675328255\n",
      "0.015358276665210724\n",
      "0.015296967700123787\n",
      "0.015235915780067444\n",
      "0.015175123699009418\n",
      "0.01511458307504654\n",
      "0.015054301358759403\n",
      "0.014994272030889988\n",
      "0.014934495091438293\n",
      "0.014874977059662342\n",
      "0.014815705828368664\n",
      "0.014756687916815281\n",
      "0.014697921462357044\n",
      "0.014639409258961678\n",
      "0.014581146650016308\n",
      "0.014523130841553211\n",
      "0.01446537021547556\n",
      "0.014407860115170479\n",
      "0.014350592158734798\n",
      "0.014293580316007137\n",
      "0.0142368134111166\n",
      "0.014180299825966358\n",
      "0.014124029316008091\n",
      "0.014068011194467545\n",
      "0.014012236148118973\n",
      "0.013956710696220398\n",
      "0.013901435770094395\n",
      "0.01384640671312809\n",
      "0.013791621662676334\n",
      "0.013737089931964874\n",
      "0.013682798482477665\n",
      "0.013628756627440453\n",
      "0.013574960641562939\n",
      "0.0135214077308774\n",
      "0.013468104414641857\n",
      "0.013415046967566013\n",
      "0.01336222980171442\n",
      "0.013309662230312824\n",
      "0.013257332146167755\n",
      "0.013205251656472683\n",
      "0.013153411448001862\n",
      "0.013101814314723015\n",
      "0.013050461187958717\n",
      "0.012999345548450947\n",
      "0.012948473915457726\n",
      "0.012897842563688755\n",
      "0.012847448699176311\n",
      "0.012797296047210693\n",
      "0.012747381813824177\n",
      "0.012697707861661911\n",
      "0.012648269534111023\n",
      "0.012599066831171513\n",
      "0.012550103478133678\n",
      "0.012501375749707222\n",
      "0.01245287898927927\n",
      "0.012404617853462696\n",
      "0.012356591410934925\n",
      "0.012308795936405659\n",
      "0.012261232361197472\n",
      "0.012213900685310364\n",
      "0.012166797183454037\n",
      "0.012119924649596214\n",
      "0.012073281221091747\n",
      "0.012026860378682613\n",
      "0.011980670504271984\n",
      "0.011934706009924412\n"
     ]
    },
    {
     "name": "stdout",
     "output_type": "stream",
     "text": [
      "0.011888962239027023\n",
      "0.011843444779515266\n",
      "0.011798151768743992\n",
      "0.011753077618777752\n",
      "0.011708226054906845\n",
      "0.011663591489195824\n",
      "0.011619177646934986\n",
      "0.011574978940188885\n",
      "0.011531002819538116\n",
      "0.011487237177789211\n",
      "0.011443689465522766\n",
      "0.01140035130083561\n",
      "0.011357228271663189\n",
      "0.011314316652715206\n",
      "0.011271611787378788\n",
      "0.011229120194911957\n",
      "0.01118683535605669\n",
      "0.011144758202135563\n",
      "0.011102888733148575\n",
      "0.011061225086450577\n",
      "0.01101976353675127\n",
      "0.01097850315272808\n",
      "0.010937447659671307\n",
      "0.010896594263613224\n",
      "0.010855939239263535\n",
      "0.010815486311912537\n",
      "0.010775230824947357\n",
      "0.010735169984400272\n",
      "0.01069530751556158\n",
      "0.010655639693140984\n",
      "0.010616166517138481\n",
      "0.010576884262263775\n",
      "0.010537795722484589\n",
      "0.01049889624118805\n",
      "0.01046018861234188\n",
      "0.010421667248010635\n",
      "0.010383334942162037\n",
      "0.010345188900828362\n",
      "0.010307230986654758\n",
      "0.01026945561170578\n",
      "0.010231863707304\n",
      "0.010194455273449421\n",
      "0.010157224722206593\n",
      "0.010120179504156113\n",
      "0.01008331123739481\n",
      "0.010046622715890408\n",
      "0.010010112076997757\n",
      "0.009973778389394283\n"
     ]
    }
   ],
   "source": [
    "while L > error_tolerance:\n",
    "    # forward pass\n",
    "    y_hat = model(x)\n",
    "    L = torch.mean((y_hat-y)**2)\n",
    "\n",
    "    print(L.item())\n",
    "    \n",
    "    # backward pass\n",
    "    optimizer.zero_grad()\n",
    "    L.backward()\n",
    "        \n",
    "    # update parameters\n",
    "    optimizer.step()    "
   ]
  },
  {
   "cell_type": "code",
   "execution_count": 9,
   "metadata": {},
   "outputs": [
    {
     "data": {
      "image/png": "[encoded data removed]",
      "text/plain": [
       "<Figure size 432x288 with 1 Axes>"
      ]
     },
     "metadata": {
      "needs_background": "light"
     },
     "output_type": "display_data"
    }
   ],
   "source": [
    "# visualize model predictions\n",
    "plt.scatter(x, y, label=\"ground-truth\")\n",
    "plt.scatter(x, y_hat.detach(), label=\"prediction\")\n",
    "plt.legend(loc=\"upper right\")\n",
    "plt.show()"
   ]
  },
  {
   "cell_type": "markdown",
   "metadata": {},
   "source": [
    "## Harder Example\n",
    "\n",
    "### Dataset\n",
    "Let's collect a dataset of x,y samples where: $$y = sin(x) + \\epsilon$$ \n",
    "\n",
    "$$X = [x_1, x_2, x_3, ..., x_N]^T$$\n",
    "$$Y = [y_1, y_2, y_3, ..., y_N]^T$$ \n",
    "\n",
    "1. xi is a real value, so X has dimensions Nx1\n",
    "2. yi is a real value, so Y has dimensions Nx1\n",
    "3. $\\epsilon \\sim \\mathcal{N}(0,1)$"
   ]
  },
  {
   "cell_type": "code",
   "execution_count": 10,
   "metadata": {},
   "outputs": [
    {
     "name": "stdout",
     "output_type": "stream",
     "text": [
      "torch.Size([10000, 1]) torch.Size([10000, 1])\n"
     ]
    }
   ],
   "source": [
    "x = torch.linspace(start=-10, end=10, steps=10000).unsqueeze(1) # 10000 equally spaced values between [-10, 10]\n",
    "y = torch.sin(x) + 0.2*torch.normal(mean=torch.zeros_like(x), std=torch.ones_like(x))\n",
    "\n",
    "print(x.shape, y.shape)"
   ]
  },
  {
   "cell_type": "code",
   "execution_count": 11,
   "metadata": {},
   "outputs": [
    {
     "data": {
      "image/png": "[encoded data removed]",
      "text/plain": [
       "<Figure size 432x288 with 1 Axes>"
      ]
     },
     "metadata": {
      "needs_background": "light"
     },
     "output_type": "display_data"
    }
   ],
   "source": [
    "plt.scatter(x, y)\n",
    "plt.show()"
   ]
  },
  {
   "cell_type": "markdown",
   "metadata": {},
   "source": [
    "Let's also collect a test dataset that we will use to evaluate the model."
   ]
  },
  {
   "cell_type": "code",
   "execution_count": 12,
   "metadata": {},
   "outputs": [],
   "source": [
    "x_test = torch.linspace(start=-10, end=10, steps=5000).unsqueeze(1) \n",
    "y_test = torch.sin(x_test)"
   ]
  },
  {
   "cell_type": "markdown",
   "metadata": {},
   "source": [
    "Now it's your turn to define and train the model for this new dataset. You can copy code from the previous example.\n",
    "\n",
    "### Model"
   ]
  },
  {
   "cell_type": "code",
   "execution_count": 42,
   "metadata": {},
   "outputs": [],
   "source": [
    "# TODO: Define the model, the optimizer and the predictor y_hat"
   ]
  },
  {
   "cell_type": "code",
   "execution_count": 43,
   "metadata": {},
   "outputs": [],
   "source": [
    "# TODO: plot initial predictions"
   ]
  },
  {
   "cell_type": "markdown",
   "metadata": {},
   "source": [
    "### Loss"
   ]
  },
  {
   "cell_type": "code",
   "execution_count": 44,
   "metadata": {},
   "outputs": [],
   "source": [
    "# TODO: Define loss and print initial loss"
   ]
  },
  {
   "cell_type": "markdown",
   "metadata": {},
   "source": [
    "### Optimization \n",
    "Finally, train the model!"
   ]
  },
  {
   "cell_type": "code",
   "execution_count": 45,
   "metadata": {},
   "outputs": [],
   "source": [
    "# TODO: Train the model"
   ]
  },
  {
   "cell_type": "code",
   "execution_count": 46,
   "metadata": {},
   "outputs": [],
   "source": [
    "# TODO: Visualize model predictions"
   ]
  },
  {
   "cell_type": "code",
   "execution_count": 56,
   "metadata": {},
   "outputs": [],
   "source": [
    "# DO NOT CHANGE\n",
    "\n",
    "# given predictions y_hat from the test input x_test\n",
    "print(\"test loss\", ((y_test-y_hat)**2).mean().item())"
   ]
  },
  {
   "cell_type": "markdown",
   "metadata": {},
   "source": [
    "## Conclusion\n",
    "We have only scratched the surface of deep learning. Try changing the model architecture for better performance!\n",
    "\n",
    "Both PyTorch and Tensorflow help us compute derivatives, which is what we ultimately need to incrementally improve the model through several forward and backward passes. \n",
    "\n",
    "Please check out more information about the different APIs here:\n",
    "\n",
    "PyTorch: https://pytorch.org/tutorials/beginner/blitz/neural_networks_tutorial.html\n",
    "\n",
    "Tensorflow 2: https://www.tensorflow.org/tutorials/quickstart/advanced"
   ]
  }
 ],
 "metadata": {
  "kernelspec": {
   "display_name": "Python 3",
   "language": "python",
   "name": "python3"
  },
  "language_info": {
   "codemirror_mode": {
    "name": "ipython",
    "version": 3
   },
   "file_extension": ".py",
   "mimetype": "text/x-python",
   "name": "python",
   "nbconvert_exporter": "python",
   "pygments_lexer": "ipython3",
   "version": "3.8.5"
  }
 },
 "nbformat": 4,
 "nbformat_minor": 5
}
